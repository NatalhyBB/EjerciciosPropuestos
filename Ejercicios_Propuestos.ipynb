{
  "nbformat": 4,
  "nbformat_minor": 0,
  "metadata": {
    "colab": {
      "provenance": [],
      "authorship_tag": "ABX9TyMsu3jrqIvsZxOmWQZ6hd79",
      "include_colab_link": true
    },
    "kernelspec": {
      "name": "python3",
      "display_name": "Python 3"
    },
    "language_info": {
      "name": "python"
    }
  },
  "cells": [
    {
      "cell_type": "markdown",
      "metadata": {
        "id": "view-in-github",
        "colab_type": "text"
      },
      "source": [
        "<a href=\"https://colab.research.google.com/github/NatalhyBB/EjerciciosPropuestos/blob/main/Ejercicios_Propuestos.ipynb\" target=\"_parent\"><img src=\"https://colab.research.google.com/assets/colab-badge.svg\" alt=\"Open In Colab\"/></a>"
      ]
    },
    {
      "cell_type": "markdown",
      "source": [
        "EJERCICIOS PROPUESTOS"
      ],
      "metadata": {
        "id": "Dk3ca-fzDqdd"
      }
    },
    {
      "cell_type": "markdown",
      "source": [
        "Ejercicio 1:\n",
        "Escribir un programa que almacene las asignaturas de un curso (por ejemplo Matemáticas, Física, Química, Historia y Lengua) en una lista y la muestre por pantalla."
      ],
      "metadata": {
        "id": "1Jr0g_gvDuOV"
      }
    },
    {
      "cell_type": "code",
      "source": [
        "cursos = []\n",
        "num_cursos = int(input(\"Ingrese el numero de cursos: \"))\n",
        "\n",
        "for i in range (1, num_cursos+1):\n",
        "  curso = input(f\"Ingrese la asignatura {i}: \")\n",
        "  cursos.append(curso)\n",
        "\n",
        "print (\"\\nLos cursos son:\" , cursos)\n",
        "print (\"\\nLos cursos son:\")\n",
        "for curso in cursos:\n",
        "  print(f\"- \", curso)\n"
      ],
      "metadata": {
        "colab": {
          "base_uri": "https://localhost:8080/"
        },
        "id": "aUPZ0prRAmLB",
        "outputId": "d5738c2e-fa59-4388-fc43-06f6147c1b3e"
      },
      "execution_count": 107,
      "outputs": [
        {
          "output_type": "stream",
          "name": "stdout",
          "text": [
            "Ingrese el numero de cursos: 2\n",
            "Ingrese la asignatura 1: 2\n",
            "Ingrese la asignatura 2: 2\n",
            "\n",
            "Los cursos son: ['2', '2']\n",
            "\n",
            "Los cursos son:\n",
            "-  2\n",
            "-  2\n"
          ]
        }
      ]
    },
    {
      "cell_type": "markdown",
      "source": [
        "Ejercicio 2:\n",
        "Escribir un programa que almacene las asignaturas de un curso (por ejemplo Matemáticas, Física, Química, Historia y Lengua) en una lista y la muestre por pantalla el mensaje Yo estudio <asignatura>, donde <asignatura> es cada una de las asignaturas de la lista."
      ],
      "metadata": {
        "id": "8K_mjE-rDz8Z"
      }
    },
    {
      "cell_type": "code",
      "source": [
        "cursos=[]\n",
        "num_cursos = int(input(\"Ingrese el número de cursos: \"))\n",
        "\n",
        "for i in range (1, num_cursos+1):\n",
        "  curso = input(f\"Ingrese el nombre del curso {i}: \")\n",
        "  cursos.append(curso)\n",
        "\n",
        "print(\"\\n\")\n",
        "for curso in cursos:\n",
        "  print(f\"Yo estudio {curso}\")"
      ],
      "metadata": {
        "colab": {
          "base_uri": "https://localhost:8080/"
        },
        "id": "dnRmKE53HXbU",
        "outputId": "61b29ad1-7f0d-430c-951c-9d1d97cf3c4d"
      },
      "execution_count": 109,
      "outputs": [
        {
          "output_type": "stream",
          "name": "stdout",
          "text": [
            "Ingrese el número de cursos: 2\n",
            "Ingrese el nombre del curso 1: comunicacion\n",
            "Ingrese el nombre del curso 2: fisica\n",
            "\n",
            "\n",
            "Yo estudio comunicacion\n",
            "Yo estudio fisica\n"
          ]
        }
      ]
    },
    {
      "cell_type": "markdown",
      "source": [
        "Ejercicio 3:\n",
        "Escribir un programa que almacene las asignaturas de un curso (por ejemplo Matemáticas, Física, Química, Historia y Lengua) en una lista, pregunte al usuario la nota que ha sacado en cada asignatura, y después las muestre por pantalla con el mensaje: En 'asignatura' has sacado 'nota' donde 'asignatura' es cada una des las asignaturas de la lista y 'nota' cada una de las correspondientes notas introducidas por el usuario."
      ],
      "metadata": {
        "id": "RhUlkD--D3by"
      }
    },
    {
      "cell_type": "code",
      "source": [
        "import pandas as pd\n",
        "cursos = []\n",
        "notas = []\n",
        "num_cursos = int(input(\"Ingrese el numero de cursos: \"))\n",
        "\n",
        "for i in range (1, num_cursos + 1):\n",
        "  curso = input(f\"Ingrese el nombre de la asignatura {i}:\")\n",
        "  cursos.append(curso)\n",
        "\n",
        "for i in range (1, num_cursos + 1):\n",
        "  nota = int(input(f\"Ingrese la nota del curso '{cursos[i-1]}': \"))\n",
        "  notas.append(nota)\n",
        "\n",
        "df = pd.DataFrame(\n",
        "    {\n",
        "        \"Curso\": cursos,\n",
        "        \"Nota\": notas\n",
        "    }\n",
        ")\n",
        "print(\"\\n\", df.to_string(index=False) ,\"\\n\")\n",
        "\n",
        "for i in range (0, num_cursos):\n",
        "  print (f\"En {cursos[i]}  has sacado {notas[i]}\")\n"
      ],
      "metadata": {
        "colab": {
          "base_uri": "https://localhost:8080/"
        },
        "id": "F4rWJbpeI47e",
        "outputId": "f67cb737-d737-4bb3-b574-6c643abb0708"
      },
      "execution_count": 110,
      "outputs": [
        {
          "output_type": "stream",
          "name": "stdout",
          "text": [
            "Ingrese el numero de cursos: 2\n",
            "Ingrese el nombre de la asignatura 1:matematica\n",
            "Ingrese el nombre de la asignatura 2:quimica\n",
            "Ingrese la nota del curso 'matematica': 12\n",
            "Ingrese la nota del curso 'quimica': 09\n",
            "\n",
            "      Curso  Nota\n",
            "matematica    12\n",
            "   quimica     9 \n",
            "\n",
            "En matematica  has sacado 12\n",
            "En quimica  has sacado 9\n"
          ]
        }
      ]
    },
    {
      "cell_type": "markdown",
      "source": [
        "Ejercicio 4:\n",
        "Escribir un programa que pregunte al usuario los números ganadores de la lotería primitiva, los almacene en una lista y los muestre por pantalla ordenados de menor a mayor."
      ],
      "metadata": {
        "id": "mIWRHwACECRl"
      }
    },
    {
      "cell_type": "code",
      "source": [
        "import pandas as pd\n",
        "num_ganadores = []\n",
        "\n",
        "for i in range (1 , 7):\n",
        "  numeros = int(input(f\"Ingrese el numero ganador {i}: \"))\n",
        "  num_ganadores.append(numeros)\n",
        "\n",
        "df = pd.DataFrame({\n",
        "    \"Ganadores\" : num_ganadores,\n",
        "    \"Ascendente\" : sorted(num_ganadores, reverse=False),\n",
        "    \"Descendente\" : sorted(num_ganadores, reverse=True)\n",
        "})\n",
        "\n",
        "df_centrado = df.apply(lambda col: col.map(lambda x:f\"{x:^10}\"))\n",
        "\n",
        "print(\"\\n\")\n",
        "print(df_centrado.to_string(index=False))\n",
        "\n",
        "\n",
        "\n"
      ],
      "metadata": {
        "colab": {
          "base_uri": "https://localhost:8080/"
        },
        "id": "sgfn3tMtMwxq",
        "outputId": "d34d1772-1904-4d8b-c2d3-0212a7534fe2"
      },
      "execution_count": 111,
      "outputs": [
        {
          "output_type": "stream",
          "name": "stdout",
          "text": [
            "Ingrese el numero ganador 1: 4\n",
            "Ingrese el numero ganador 2: 5\n",
            "Ingrese el numero ganador 3: 6\n",
            "Ingrese el numero ganador 4: 7\n",
            "Ingrese el numero ganador 5: 8\n",
            "Ingrese el numero ganador 6: 4\n",
            "\n",
            "\n",
            " Ganadores Ascendente Descendente\n",
            "    4          4           8     \n",
            "    5          4           7     \n",
            "    6          5           6     \n",
            "    7          6           5     \n",
            "    8          7           4     \n",
            "    4          8           4     \n"
          ]
        }
      ]
    },
    {
      "cell_type": "markdown",
      "source": [
        "Ejercicio 5:\n",
        "Escribir un programa que almacene en una lista los números del 1 al 10 y los muestre por pantalla en orden inverso separados por comas."
      ],
      "metadata": {
        "id": "S0FV6zEMEGsI"
      }
    },
    {
      "cell_type": "code",
      "source": [
        "numeros = list(range(1, 11))\n",
        "\n",
        "print (\"\\nNumeros del 1 al 10: \\n\")\n",
        "print (\" , \".join(map(str, numeros)))\n",
        "print (\"\\n Numeros en orden inverso: \\n\")\n",
        "ordenados = sorted(numeros, reverse=True)\n",
        "print (\" , \".join(map(str, ordenados)))\n"
      ],
      "metadata": {
        "colab": {
          "base_uri": "https://localhost:8080/"
        },
        "id": "8Dc4VcQBSe00",
        "outputId": "b3cae981-0ed0-4b0c-ad79-089551b6b164"
      },
      "execution_count": 112,
      "outputs": [
        {
          "output_type": "stream",
          "name": "stdout",
          "text": [
            "\n",
            "Numeros del 1 al 10: \n",
            "\n",
            "1 , 2 , 3 , 4 , 5 , 6 , 7 , 8 , 9 , 10\n",
            "\n",
            " Numeros en orden inverso: \n",
            "\n",
            "10 , 9 , 8 , 7 , 6 , 5 , 4 , 3 , 2 , 1\n"
          ]
        }
      ]
    },
    {
      "cell_type": "markdown",
      "source": [
        "Ejercicio 6:\n",
        "Escribir un programa que almacene las asignaturas de un curso (por ejemplo Matemáticas, Física, Química, Historia y Lengua) en una lista, pregunte al usuario la nota que ha sacado en cada asignatura y elimine de la lista las asignaturas aprobadas. Al final el programa debe mostrar por pantalla las asignaturas que el usuario tiene que repetir."
      ],
      "metadata": {
        "id": "WBsr5U1TEJ2I"
      }
    },
    {
      "cell_type": "code",
      "source": [
        "import pandas as pd\n",
        "cursos = []\n",
        "notas = []\n",
        "num_cursos = int(input(\"Indique el numero de cursos que lleva: \"))\n",
        "\n",
        "for i in range(1, num_cursos + 1):\n",
        "  curso=input(f\"Ingrese el nombre del curso {i}: \")\n",
        "  cursos.append(curso)\n",
        "for i in range (1, num_cursos + 1):\n",
        "  nota = float(input(f\"Ingrese su nota de curso '{cursos[i-1]}': \"))\n",
        "  notas.append(nota)\n",
        "\n",
        "df = pd.DataFrame({\n",
        "    \"Curso\" : cursos,\n",
        "    \"Nota\" : notas\n",
        "})\n",
        "\n",
        "desaprobado = df[df[\"Nota\"] < 12]\n",
        "print(\"\\nCursos desaprobados\")\n",
        "print(desaprobado.to_string(index=False))"
      ],
      "metadata": {
        "colab": {
          "base_uri": "https://localhost:8080/"
        },
        "id": "N-t_auYrYB90",
        "outputId": "2fbb4d9a-92c9-4548-a688-b9eb286d8a45"
      },
      "execution_count": 113,
      "outputs": [
        {
          "output_type": "stream",
          "name": "stdout",
          "text": [
            "Indique el numero de cursos que lleva: 3\n",
            "Ingrese el nombre del curso 1: comunicacion\n",
            "Ingrese el nombre del curso 2: matematica\n",
            "Ingrese el nombre del curso 3: fisica\n",
            "Ingrese su nota de curso 'comunicacion': 13\n",
            "Ingrese su nota de curso 'matematica': 09\n",
            "Ingrese su nota de curso 'fisica': 10\n",
            "\n",
            "Cursos desaprobados\n",
            "     Curso  Nota\n",
            "matematica   9.0\n",
            "    fisica  10.0\n"
          ]
        }
      ]
    },
    {
      "cell_type": "markdown",
      "source": [
        "Ejercicio 7:Escribir un programa que almacene el abecedario en una lista, elimine de la lista las letras que ocupen posiciones múltiplos de 3, y muestre por pantalla la lista resultante."
      ],
      "metadata": {
        "id": "fVgAzsSwEPYK"
      }
    },
    {
      "cell_type": "code",
      "source": [
        "abecedario = [chr(i) for i in range(97, 123)]\n",
        "\n",
        "letras_filtradas = [letra for indice, letra in enumerate(abecedario, start=1) if indice % 3 == 0]\n",
        "\n",
        "print(\", \".join(letras_filtradas))"
      ],
      "metadata": {
        "colab": {
          "base_uri": "https://localhost:8080/"
        },
        "id": "w09Ep8JOeDyf",
        "outputId": "42be76e0-5012-438f-be97-920b9d35dd78"
      },
      "execution_count": 114,
      "outputs": [
        {
          "output_type": "stream",
          "name": "stdout",
          "text": [
            "c, f, i, l, o, r, u, x\n"
          ]
        }
      ]
    },
    {
      "cell_type": "markdown",
      "source": [
        "Ejercicio 8:\n",
        "Escribir un programa que pida al usuario una palabra y muestre por pantalla si es un palíndromo."
      ],
      "metadata": {
        "id": "wzUEC7mYEW5X"
      }
    },
    {
      "cell_type": "code",
      "source": [
        "palabra = input(\"Ingrese una palabra de su agrado: \")\n",
        "palabra_invertida = palabra[::-1]\n",
        "if palabra == palabra_invertida:\n",
        "  print(f\"La palabra '{palabra}' es un palindromo\")\n",
        "else:\n",
        "  print(f\"La palabra '{palabra}' no es un palindromo\")\n"
      ],
      "metadata": {
        "colab": {
          "base_uri": "https://localhost:8080/"
        },
        "id": "cMzJQFgNhjNn",
        "outputId": "8a75665c-4c9c-42f7-c93d-0284fab4a76b"
      },
      "execution_count": 115,
      "outputs": [
        {
          "output_type": "stream",
          "name": "stdout",
          "text": [
            "Ingrese una palabra de su agrado: avestruz\n",
            "La palabra 'avestruz' no es un palindromo\n"
          ]
        }
      ]
    },
    {
      "cell_type": "markdown",
      "source": [
        "Ejercicio 9:\n",
        "Escribir un programa que pida al usuario una palabra y muestre por pantalla el número de veces que contiene cada vocal."
      ],
      "metadata": {
        "id": "LEODAZbiEYmR"
      }
    },
    {
      "cell_type": "code",
      "source": [
        "palabra = input(\"Ingrese una palabra de su agrado: \")\n",
        "vocales = \"aeiou\"\n",
        "for vocal in vocales:\n",
        "  print(f\"La vocal '{vocal}' aparece {palabra.lower().count(vocal)} veces\")\n"
      ],
      "metadata": {
        "colab": {
          "base_uri": "https://localhost:8080/"
        },
        "id": "oajUIzNujs9G",
        "outputId": "c655cf9e-ee33-41db-ed3c-36fc89d7eefb"
      },
      "execution_count": 116,
      "outputs": [
        {
          "output_type": "stream",
          "name": "stdout",
          "text": [
            "Ingrese una palabra de su agrado: abecedario\n",
            "La vocal 'a' aparece 2 veces\n",
            "La vocal 'e' aparece 2 veces\n",
            "La vocal 'i' aparece 1 veces\n",
            "La vocal 'o' aparece 1 veces\n",
            "La vocal 'u' aparece 0 veces\n"
          ]
        }
      ]
    },
    {
      "cell_type": "markdown",
      "source": [
        "Ejercicio 10:\n",
        "Escribir un programa que almacene en una lista los siguientes precios, 50, 75, 46, 22, 80, 65, 8, y muestre por pantalla el menor y el mayor de los precios."
      ],
      "metadata": {
        "id": "ZE8xebxaEd8k"
      }
    },
    {
      "cell_type": "code",
      "source": [
        "precios = [50, 75, 46, 22, 80, 65, 8]\n",
        "print(f\"El menor precio es: {min(precios)}\")\n",
        "print(f\"El mayor precio es: {max(precios)}\")"
      ],
      "metadata": {
        "colab": {
          "base_uri": "https://localhost:8080/"
        },
        "id": "qq-kQpyEk8yI",
        "outputId": "eef60648-92ed-4b40-f8d6-dacb5117b2ec"
      },
      "execution_count": 117,
      "outputs": [
        {
          "output_type": "stream",
          "name": "stdout",
          "text": [
            "El menor precio es: 8\n",
            "El mayor precio es: 80\n"
          ]
        }
      ]
    },
    {
      "cell_type": "markdown",
      "source": [
        "Ejercicio 11:\n",
        "Escribir un programa que almacene los vectores (1,2,3) y (-1,0,2) en dos listas y muestre por pantalla su producto escalar."
      ],
      "metadata": {
        "id": "QfUZw3KYEiYW"
      }
    },
    {
      "cell_type": "code",
      "source": [
        "vector1 = [1,2,3]\n",
        "vector2 = [-1,0,2]\n",
        "\n",
        "producto_escalar = 0\n",
        "for i in range(len(vector1)):\n",
        "  producto_escalar += vector1[i] * vector2[i]\n",
        "\n",
        "print(f\"El producto escalar de los vectores es: {producto_escalar}\")\n",
        "\n"
      ],
      "metadata": {
        "colab": {
          "base_uri": "https://localhost:8080/"
        },
        "id": "ZjekKMIYEkAm",
        "outputId": "26df01a8-4d38-41d5-962c-6709bf15dd1d"
      },
      "execution_count": 118,
      "outputs": [
        {
          "output_type": "stream",
          "name": "stdout",
          "text": [
            "El producto escalar de los vectores es: 5\n"
          ]
        }
      ]
    },
    {
      "cell_type": "markdown",
      "source": [
        "Ejercicio 12:\n",
        "Escribir un programa que almacene las matrices en una lista y muestre por pantalla su producto."
      ],
      "metadata": {
        "id": "yznBDEhlEkRn"
      }
    },
    {
      "cell_type": "code",
      "source": [
        "import numpy as np\n",
        "matrices = int(input(\"Ingrese el numero de matrices que desea generar: \"))\n",
        "filas = int(input(\"Ingrese el numero de filas: \"))\n",
        "columnas = int(input(\"Ingrese el numero de columnas: \"))\n",
        "\n",
        "todas_matrices = []\n",
        "\n",
        "for num_matriz in range (1, matrices+1):\n",
        "  matriz = []\n",
        "  for i in range (filas):\n",
        "    fila=[]\n",
        "    for j in range (columnas):\n",
        "      valor = int(input(f\"Ingrese el valor de la posicion [{i+1}][{j+1}] de la matriz {num_matriz}: \"))\n",
        "      fila.append(valor)\n",
        "    matriz.append(fila)\n",
        "  todas_matrices.append(np.array(matriz))\n",
        "\n",
        "for idx, mat in enumerate(todas_matrices, start=1):\n",
        "    print(f\"\\nMatriz {idx}:\")\n",
        "    print(mat)\n",
        "\n",
        "producto_matrices = todas_matrices[0]\n",
        "for mat in todas_matrices[1:]:\n",
        "    producto_matrices = np.dot(producto_matrices, mat)\n",
        "\n",
        "print(\"\\nProducto de las matrices:\")\n",
        "print(producto_matrices)\n"
      ],
      "metadata": {
        "colab": {
          "base_uri": "https://localhost:8080/"
        },
        "id": "IMkrf46XDw54",
        "outputId": "591e2d5a-7d05-474f-8444-59db0df7b9bf"
      },
      "execution_count": 120,
      "outputs": [
        {
          "output_type": "stream",
          "name": "stdout",
          "text": [
            "Ingrese el numero de matrices que desea generar: 2\n",
            "Ingrese el numero de filas: 2\n",
            "Ingrese el numero de columnas: 2\n",
            "Ingrese el valor de la posicion [1][1] de la matriz 1: 4\n",
            "Ingrese el valor de la posicion [1][2] de la matriz 1: 6\n",
            "Ingrese el valor de la posicion [2][1] de la matriz 1: 7\n",
            "Ingrese el valor de la posicion [2][2] de la matriz 1: 8\n",
            "Ingrese el valor de la posicion [1][1] de la matriz 2: 1\n",
            "Ingrese el valor de la posicion [1][2] de la matriz 2: 2\n",
            "Ingrese el valor de la posicion [2][1] de la matriz 2: 3\n",
            "Ingrese el valor de la posicion [2][2] de la matriz 2: 4\n",
            "\n",
            "Matriz 1:\n",
            "[[4 6]\n",
            " [7 8]]\n",
            "\n",
            "Matriz 2:\n",
            "[[1 2]\n",
            " [3 4]]\n",
            "\n",
            "Producto de las matrices:\n",
            "[[22 32]\n",
            " [31 46]]\n"
          ]
        }
      ]
    },
    {
      "cell_type": "markdown",
      "source": [
        "Ejercicio 13:\n",
        "Escribir un programa que pregunte por una muestra de números, separados por comas, los guarde en una lista y muestre por pantalla su media y desviación típica."
      ],
      "metadata": {
        "id": "8jnG-PBaErLC"
      }
    },
    {
      "cell_type": "code",
      "execution_count": 128,
      "metadata": {
        "colab": {
          "base_uri": "https://localhost:8080/"
        },
        "id": "W6YEiBSCDD4v",
        "outputId": "08b52912-8578-4f8b-dc49-569c132536be"
      },
      "outputs": [
        {
          "output_type": "stream",
          "name": "stdout",
          "text": [
            "Ingrese a cantidad de numeros que desea ingresar: 4\n",
            "Ingrese el número 1: 5\n",
            "Ingrese el número 2: 7\n",
            "Ingrese el número 3: 3\n",
            "Ingrese el número 4: 9\n",
            "La media es: 6\n",
            "La desviacion tipica es: 2.581988897471611\n"
          ]
        }
      ],
      "source": [
        "from statistics import mean, stdev as dst\n",
        "\n",
        "numeros = []\n",
        "cantidad_num = int(input(\"Ingrese a cantidad de numeros que desea ingresar: \"))\n",
        "\n",
        "for i in range(1, cantidad_num+1):\n",
        "  numero = int(input(f\"Ingrese el número {i}: \"))\n",
        "  numeros.append(numero)\n",
        "\n",
        "\n",
        "print(f\"La media es: {mean(numeros)}\")\n",
        "print(f\"La desviacion tipica es: {dst(numeros)}\")"
      ]
    }
  ]
}