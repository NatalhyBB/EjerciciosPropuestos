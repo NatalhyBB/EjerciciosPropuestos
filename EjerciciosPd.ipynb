{
  "nbformat": 4,
  "nbformat_minor": 0,
  "metadata": {
    "colab": {
      "provenance": [],
      "authorship_tag": "ABX9TyPq30IZBETeB12U2ulVEHYe",
      "include_colab_link": true
    },
    "kernelspec": {
      "name": "python3",
      "display_name": "Python 3"
    },
    "language_info": {
      "name": "python"
    }
  },
  "cells": [
    {
      "cell_type": "markdown",
      "metadata": {
        "id": "view-in-github",
        "colab_type": "text"
      },
      "source": [
        "<a href=\"https://colab.research.google.com/github/NatalhyBB/EjerciciosPropuestos/blob/main/EjerciciosPd.ipynb\" target=\"_parent\"><img src=\"https://colab.research.google.com/assets/colab-badge.svg\" alt=\"Open In Colab\"/></a>"
      ]
    },
    {
      "cell_type": "markdown",
      "source": [
        "Ejercicio 1:\n",
        "Escribir un programa que pregunte al usuario por las ventas de un rango de años y muestre por pantalla una serie con los datos de las ventas indexada por los años, antes y después de aplicarles un descuento del 10%."
      ],
      "metadata": {
        "id": "g7CdohfLCL9c"
      }
    },
    {
      "cell_type": "code",
      "source": [
        "import pandas as pd\n",
        "\n",
        "año_inicial = int(input(\"Ingrese el año inicial:\"))\n",
        "rango = int(input(\"Ingrese el rango de años con el que desea trabajar: \"))\n",
        "\n",
        "años =[]\n",
        "ventas_antes =[]\n",
        "ventas_despues =[]\n",
        "\n",
        "for i in range (año_inicial, año_inicial + rango):\n",
        "  ventas = float(input(f\"Ingrese el valor de las ventas del año {i}: \"))\n",
        "  ventas_descuento = ventas * 0.9\n",
        "  años.append(i)\n",
        "  ventas_antes.append(ventas)\n",
        "  ventas_despues.append(ventas_descuento)\n",
        "\n",
        "df = pd.DataFrame({\n",
        "    \"Año\" : años,\n",
        "    \"Antes\" : ventas_antes,\n",
        "    \"Despues\" : ventas_despues\n",
        "})\n",
        "\n",
        "print(\"\\n\", df.to_string(index=False))"
      ],
      "metadata": {
        "colab": {
          "base_uri": "https://localhost:8080/"
        },
        "id": "lU7KNMjMCYJe",
        "outputId": "6d1b0977-28b2-4f0c-84c7-9dd1abbd91e9"
      },
      "execution_count": 7,
      "outputs": [
        {
          "output_type": "stream",
          "name": "stdout",
          "text": [
            "Ingrese el año inicial:2012\n",
            "Ingrese el rango de años con el que desea trabajar: 3\n",
            "Ingrese el valor de las ventas del año 2012: 123\n",
            "Ingrese el valor de las ventas del año 2013: 45\n",
            "Ingrese el valor de las ventas del año 2014: 67\n",
            "\n",
            "  Año  Antes  Despues\n",
            "2012  123.0    110.7\n",
            "2013   45.0     40.5\n",
            "2014   67.0     60.3\n"
          ]
        }
      ]
    },
    {
      "cell_type": "markdown",
      "source": [
        "Ejercicio 2:\n",
        "Escribir una función que reciba un diccionario con las notas de los alumnos de un curso y devuelva una serie con la nota mínima, la máxima, media y la desviación típica."
      ],
      "metadata": {
        "id": "_Cg7LWt5CTWz"
      }
    },
    {
      "cell_type": "code",
      "execution_count": 19,
      "metadata": {
        "colab": {
          "base_uri": "https://localhost:8080/"
        },
        "id": "BLGLq9F0B-_n",
        "outputId": "82540cc3-0876-44a6-9327-eb47d72a7878"
      },
      "outputs": [
        {
          "output_type": "stream",
          "name": "stdout",
          "text": [
            "Ingrese el número alumnos: 4\n",
            "Ingrese la nota de alumno N°1: 12\n",
            "Ingrese la nota de alumno N°2: 19\n",
            "Ingrese la nota de alumno N°3: 20\n",
            "Ingrese la nota de alumno N°4: 13\n",
            "\n",
            "\n",
            "Mínima               12.00\n",
            "Máxima               20.00\n",
            "Media                16.00\n",
            "Desviación típica     4.08\n",
            "dtype: float64\n"
          ]
        }
      ],
      "source": [
        "import pandas as pd\n",
        "\n",
        "def calificaciones(notas):\n",
        "    notas = pd.Series(notas)\n",
        "\n",
        "    minimo = round(notas.min(),2)\n",
        "    maximo = round(notas.max(),2)\n",
        "    media = round(notas.mean(),2)\n",
        "    desviacion = round(notas.std(),2)\n",
        "\n",
        "    resultado = pd.Series({\n",
        "        \"Mínima\": minimo,\n",
        "        \"Máxima\": maximo,\n",
        "        \"Media\": media,\n",
        "        \"Desviación típica\": desviacion\n",
        "    })\n",
        "\n",
        "    return resultado\n",
        "\n",
        "num_calif = int(input(\"Ingrese el número alumnos: \"))\n",
        "calif = []\n",
        "\n",
        "for i in range(1, num_calif + 1):\n",
        "    nota = float(input(f\"Ingrese la nota de alumno N°{i}: \"))\n",
        "    calif.append(nota)\n",
        "\n",
        "notas = calificaciones(calif)\n",
        "print(\"\\n\")\n",
        "print(notas)"
      ]
    },
    {
      "cell_type": "markdown",
      "source": [
        "Ejercicio 3:\n",
        "Escribir una función que reciba un diccionario con las notas de los alumnos de un curso y devuelva una serie con las notas de los alumnos aprobados ordenadas de mayor a menor."
      ],
      "metadata": {
        "id": "7AvFLiNbCWRR"
      }
    },
    {
      "cell_type": "code",
      "source": [
        "import pandas as pd\n",
        "\n",
        "def notas_aprobados(dic_notas, nota_minima=11):\n",
        "    serie_notas = pd.Series(dic_notas)\n",
        "    aprobados = serie_notas[serie_notas >= nota_minima]\n",
        "    return aprobados.sort_values(ascending=False)\n",
        "\n",
        "# Pedir datos al usuario\n",
        "n = int(input(\"Ingrese el número de estudiantes: \"))\n",
        "notas = {}\n",
        "\n",
        "for i in range(n):\n",
        "    nombre = input(f\"Ingrese el nombre del estudiante {i+1}: \")\n",
        "    nota = float(input(f\"Ingrese la nota de {nombre}: \"))\n",
        "    notas[nombre] = nota\n",
        "\n",
        "# Mostrar resultados\n",
        "resultado = notas_aprobados(notas)\n",
        "print(\"\\nNotas de alumnos aprobados ordenadas de mayor a menor:\")\n",
        "print(resultado)\n"
      ],
      "metadata": {
        "colab": {
          "base_uri": "https://localhost:8080/"
        },
        "id": "azeVtb5NCQcB",
        "outputId": "7e2a1764-f5ca-45af-cc77-1ce6d714a2a2"
      },
      "execution_count": 1,
      "outputs": [
        {
          "output_type": "stream",
          "name": "stdout",
          "text": [
            "Ingrese el número de estudiantes: 4\n",
            "Ingrese el nombre del estudiante 1: camilo\n",
            "Ingrese la nota de camilo: 12\n",
            "Ingrese el nombre del estudiante 2: lucia\n",
            "Ingrese la nota de lucia: 14\n",
            "Ingrese el nombre del estudiante 3: carmen\n",
            "Ingrese la nota de carmen: 19\n",
            "Ingrese el nombre del estudiante 4: luz\n",
            "Ingrese la nota de luz: 11\n",
            "\n",
            "Notas de alumnos aprobados ordenadas de mayor a menor:\n",
            "carmen    19.0\n",
            "lucia     14.0\n",
            "camilo    12.0\n",
            "luz       11.0\n",
            "dtype: float64\n"
          ]
        }
      ]
    },
    {
      "cell_type": "markdown",
      "source": [
        "Ejercicio 4:\n",
        "Escribir programa que genere y muestre por pantalla un DataFrame con los datos de la tabla siguiente:\n",
        "Mes Ventas Gastos\n",
        "Enero 30500 22000\n",
        "Febrero 35600 23400\n",
        "Marzo 28300 18100\n",
        "Abril 33900 20700"
      ],
      "metadata": {
        "id": "gKQHPBXiCdyD"
      }
    },
    {
      "cell_type": "code",
      "source": [
        "import pandas as pd\n",
        "\n",
        "# Datos\n",
        "datos = {\n",
        "    'Mes': ['Enero', 'Febrero', 'Marzo', 'Abril'],\n",
        "    'Ventas': [30500, 35600, 28300, 33900],\n",
        "    'Gastos': [22000, 23400, 18100, 20700]\n",
        "}\n",
        "\n",
        "# Crear DataFrame\n",
        "df = pd.DataFrame(datos)\n",
        "\n",
        "# Mostrar DataFrame\n",
        "print(df.to_string(index=False))\n"
      ],
      "metadata": {
        "colab": {
          "base_uri": "https://localhost:8080/"
        },
        "id": "eb0Eo9ZMCcYB",
        "outputId": "1d250e52-9c58-48aa-e0b1-df83361eedd3"
      },
      "execution_count": 3,
      "outputs": [
        {
          "output_type": "stream",
          "name": "stdout",
          "text": [
            "    Mes  Ventas  Gastos\n",
            "  Enero   30500   22000\n",
            "Febrero   35600   23400\n",
            "  Marzo   28300   18100\n",
            "  Abril   33900   20700\n"
          ]
        }
      ]
    },
    {
      "cell_type": "markdown",
      "source": [
        "Ejercicio 5:\n",
        "Escribir una función que reciba un DataFrame con el formato del ejercicio anterior, una lista de meses, y devuelva el balance (ventas - gastos) total en los meses indicados."
      ],
      "metadata": {
        "id": "R7HA4tsiCizF"
      }
    },
    {
      "cell_type": "code",
      "source": [
        "import pandas as pd\n",
        "\n",
        "def calcular_balance(df, lista_meses):\n",
        "    # Validar columnas\n",
        "    columnas_necesarias = {'Mes', 'Ventas', 'Gastos'}\n",
        "    if not columnas_necesarias.issubset(df.columns):\n",
        "        raise ValueError(f\"El DataFrame debe contener las columnas: {columnas_necesarias}\")\n",
        "\n",
        "    # Validar lista de meses\n",
        "    if not lista_meses:\n",
        "        raise ValueError(\"La lista de meses no puede estar vacía.\")\n",
        "\n",
        "    # Normalizar a minúsculas para evitar problemas de coincidencia\n",
        "    df['Mes'] = df['Mes'].str.lower()\n",
        "    lista_meses = [mes.lower() for mes in lista_meses]\n",
        "\n",
        "    # Verificar si todos los meses existen\n",
        "    meses_existentes = set(df['Mes'])\n",
        "    meses_faltantes = set(lista_meses) - meses_existentes\n",
        "    if meses_faltantes:\n",
        "        print(f\"⚠ Advertencia: Los siguientes meses no están en el DataFrame: {meses_faltantes}\")\n",
        "\n",
        "    # Filtrar y calcular balance\n",
        "    df_filtrado = df.loc[df['Mes'].isin(lista_meses)]\n",
        "    balance_total = (df_filtrado['Ventas'] - df_filtrado['Gastos']).sum()\n",
        "\n",
        "    return balance_total\n",
        "\n",
        "# Ejemplo de uso\n",
        "datos = {\n",
        "    'Mes': ['Enero', 'Febrero', 'Marzo', 'Abril'],\n",
        "    'Ventas': [30500, 35600, 28300, 33900],\n",
        "    'Gastos': [22000, 23400, 18100, 20700]\n",
        "}\n",
        "df = pd.DataFrame(datos)\n",
        "\n",
        "meses = ['Enero', 'Marzo', 'Abril']\n",
        "resultado = calcular_balance(df, meses)\n",
        "print(f\"Balance total para {meses}: {resultado}\")\n"
      ],
      "metadata": {
        "colab": {
          "base_uri": "https://localhost:8080/"
        },
        "id": "E95g-InCCtkF",
        "outputId": "e6d74376-e764-4ffd-98f7-0656e6aec1d5"
      },
      "execution_count": 3,
      "outputs": [
        {
          "output_type": "stream",
          "name": "stdout",
          "text": [
            "Balance total para ['Enero', 'Marzo', 'Abril']: 31900\n"
          ]
        }
      ]
    },
    {
      "cell_type": "markdown",
      "source": [
        "# Ejercicio 6:\n",
        "El fichero cotizacion.csv contiene las cotizaciones de las empresas del IBEX35 con las siguientes columnas: nombre (nombre de la empresa), Final (precio de la acción al cierre de bolsa), Máximo (precio máximo de la acción durante la jornada), Mínimo (precio mínimo de la acción durante la jornada), volumen (Volumen al cierre de bolsa), Efectivo (capitalización al cierre en miles de euros). Construir una función que construya un DataFrame a partir del un fichero con el formato anterior y devuelva otro DataFrame con el mínimo, el máximo y la media de dada columna."
      ],
      "metadata": {
        "id": "gEj0d13NCuKx"
      }
    },
    {
      "cell_type": "code",
      "source": [
        "import pandas as pd\n",
        "\n",
        "def resumen_cotizaciones(ruta_csv):\n",
        "    df = pd.read_csv(ruta_csv)\n",
        "\n",
        "    columnas_numericas = df.select_dtypes(include=\"number\").columns\n",
        "\n",
        "    resumen = pd.DataFrame({\n",
        "        \"Mínimo\": df[columnas_numericas].min().round(2),\n",
        "        \"Máximo\": df[columnas_numericas].max().round(2),\n",
        "        \"Media\": df[columnas_numericas].mean().round(2)\n",
        "    })\n",
        "\n",
        "    return resumen\n",
        "\n",
        "ruta = \"/content/cotizacion.csv\"\n",
        "resultado = resumen_cotizaciones(ruta)\n",
        "print(resultado)\n"
      ],
      "metadata": {
        "colab": {
          "base_uri": "https://localhost:8080/"
        },
        "id": "oUCYY6i0px3L",
        "outputId": "3622f017-5a0e-4d00-8df9-b58f68ced1f5"
      },
      "execution_count": 15,
      "outputs": [
        {
          "output_type": "stream",
          "name": "stdout",
          "text": [
            "              Mínimo     Máximo       Media\n",
            "Final           9.75       42.1       22.64\n",
            "Máximo         10.00       43.0       23.12\n",
            "Mínimo          9.50       41.8       22.30\n",
            "Volumen    150000.00   250000.0   193750.00\n",
            "Efectivo  1706250.00  8420000.0  4570312.50\n"
          ]
        }
      ]
    },
    {
      "cell_type": "markdown",
      "source": [
        "Ejercicio 7:\n",
        "El fichero titanic.csv contiene información sobre los pasajeros del Titanic. Escribir un programa con los siguientes requisitos:\n"
      ],
      "metadata": {
        "id": "A5mssqDtCxHf"
      }
    },
    {
      "cell_type": "code",
      "source": [
        "import pandas as pd\n",
        "\n",
        "# Leer el fichero CSV\n",
        "df = pd.read_csv(\"/content/titanic.csv\")\n",
        "\n",
        "# 1. Mostrar dimensiones, número de datos, nombres de columnas y filas, tipos de datos, primeras 10 filas y últimas 10 filas\n",
        "print(\"Dimensiones del DataFrame:\", df.shape)\n",
        "print(\"Número de datos:\", df.size)\n",
        "print(\"Nombres de columnas:\", df.columns.tolist())\n",
        "print(\"Nombres de filas (índices):\", df.index.tolist())\n",
        "print(\"\\nTipos de datos:\\n\", df.dtypes)\n",
        "print(\"\\nPrimeras 10 filas:\\n\", df.head(10))\n",
        "print(\"\\nÚltimas 10 filas:\\n\", df.tail(10))\n",
        "\n",
        "# 2. Datos del pasajero con identificador 148\n",
        "pasajero_148 = df[df[\"PassengerId\"] == 148]\n",
        "print(\"\\nDatos del pasajero con ID 148:\\n\", pasajero_148)\n",
        "\n",
        "# 3. Filas pares (índices pares)\n",
        "filas_pares = df.iloc[::2]\n",
        "print(\"\\nFilas pares:\\n\", filas_pares)\n",
        "\n",
        "# 4. Nombres de personas en primera clase, ordenados alfabéticamente\n",
        "nombres_primera = df[df[\"Pclass\"] == 1][\"Name\"].sort_values()\n",
        "print(\"\\nNombres de pasajeros en primera clase (orden alfabético):\\n\", nombres_primera)\n",
        "\n",
        "# 5. Porcentaje de personas que sobrevivieron y murieron\n",
        "porcentajes_supervivencia = df[\"Survived\"].value_counts(normalize=True) * 100\n",
        "print(\"\\nPorcentaje de supervivientes y fallecidos:\\n\", porcentajes_supervivencia.round(2))\n",
        "\n",
        "# 6. Porcentaje de supervivientes por clase\n",
        "porcentaje_supervivencia_clase = df.groupby(\"Pclass\")[\"Survived\"].mean() * 100\n",
        "print(\"\\nPorcentaje de supervivientes por clase:\\n\", porcentaje_supervivencia_clase.round(2))\n",
        "\n",
        "# 7. Eliminar pasajeros con edad desconocida\n",
        "df_sin_edad_desconocida = df.dropna(subset=[\"Age\"]).copy()\n",
        "\n",
        "# 8. Edad media de mujeres por clase\n",
        "edad_media_mujeres = df_sin_edad_desconocida[df_sin_edad_desconocida[\"Sex\"] == \"female\"].groupby(\"Pclass\")[\"Age\"].mean()\n",
        "print(\"\\nEdad media de mujeres por clase:\\n\", edad_media_mujeres.round(2))\n",
        "\n",
        "# 9. Añadir columna booleana para menor de edad (<18)\n",
        "df_sin_edad_desconocida[\"Menor\"] = df_sin_edad_desconocida[\"Age\"] < 18\n",
        "\n",
        "# 10. Porcentaje de menores y mayores que sobrevivieron en cada clase\n",
        "porcentaje_supervivencia_edad_clase = df_sin_edad_desconocida.groupby([\"Pclass\", \"Menor\"])[\"Survived\"].mean() * 100\n",
        "print(\"\\nPorcentaje de supervivientes por clase y grupo de edad (Menor=True):\\n\", porcentaje_supervivencia_edad_clase.round(2))\n"
      ],
      "metadata": {
        "colab": {
          "base_uri": "https://localhost:8080/"
        },
        "id": "7uBdtqVnCw1j",
        "outputId": "62d0cab8-109f-4500-c7bb-31a8649cd013"
      },
      "execution_count": 30,
      "outputs": [
        {
          "output_type": "stream",
          "name": "stdout",
          "text": [
            "Dimensiones del DataFrame: (891, 12)\n",
            "Número de datos: 10692\n",
            "Nombres de columnas: ['PassengerId', 'Survived', 'Pclass', 'Name', 'Sex', 'Age', 'SibSp', 'Parch', 'Ticket', 'Fare', 'Cabin', 'Embarked']\n",
            "Nombres de filas (índices): [0, 1, 2, 3, 4, 5, 6, 7, 8, 9, 10, 11, 12, 13, 14, 15, 16, 17, 18, 19, 20, 21, 22, 23, 24, 25, 26, 27, 28, 29, 30, 31, 32, 33, 34, 35, 36, 37, 38, 39, 40, 41, 42, 43, 44, 45, 46, 47, 48, 49, 50, 51, 52, 53, 54, 55, 56, 57, 58, 59, 60, 61, 62, 63, 64, 65, 66, 67, 68, 69, 70, 71, 72, 73, 74, 75, 76, 77, 78, 79, 80, 81, 82, 83, 84, 85, 86, 87, 88, 89, 90, 91, 92, 93, 94, 95, 96, 97, 98, 99, 100, 101, 102, 103, 104, 105, 106, 107, 108, 109, 110, 111, 112, 113, 114, 115, 116, 117, 118, 119, 120, 121, 122, 123, 124, 125, 126, 127, 128, 129, 130, 131, 132, 133, 134, 135, 136, 137, 138, 139, 140, 141, 142, 143, 144, 145, 146, 147, 148, 149, 150, 151, 152, 153, 154, 155, 156, 157, 158, 159, 160, 161, 162, 163, 164, 165, 166, 167, 168, 169, 170, 171, 172, 173, 174, 175, 176, 177, 178, 179, 180, 181, 182, 183, 184, 185, 186, 187, 188, 189, 190, 191, 192, 193, 194, 195, 196, 197, 198, 199, 200, 201, 202, 203, 204, 205, 206, 207, 208, 209, 210, 211, 212, 213, 214, 215, 216, 217, 218, 219, 220, 221, 222, 223, 224, 225, 226, 227, 228, 229, 230, 231, 232, 233, 234, 235, 236, 237, 238, 239, 240, 241, 242, 243, 244, 245, 246, 247, 248, 249, 250, 251, 252, 253, 254, 255, 256, 257, 258, 259, 260, 261, 262, 263, 264, 265, 266, 267, 268, 269, 270, 271, 272, 273, 274, 275, 276, 277, 278, 279, 280, 281, 282, 283, 284, 285, 286, 287, 288, 289, 290, 291, 292, 293, 294, 295, 296, 297, 298, 299, 300, 301, 302, 303, 304, 305, 306, 307, 308, 309, 310, 311, 312, 313, 314, 315, 316, 317, 318, 319, 320, 321, 322, 323, 324, 325, 326, 327, 328, 329, 330, 331, 332, 333, 334, 335, 336, 337, 338, 339, 340, 341, 342, 343, 344, 345, 346, 347, 348, 349, 350, 351, 352, 353, 354, 355, 356, 357, 358, 359, 360, 361, 362, 363, 364, 365, 366, 367, 368, 369, 370, 371, 372, 373, 374, 375, 376, 377, 378, 379, 380, 381, 382, 383, 384, 385, 386, 387, 388, 389, 390, 391, 392, 393, 394, 395, 396, 397, 398, 399, 400, 401, 402, 403, 404, 405, 406, 407, 408, 409, 410, 411, 412, 413, 414, 415, 416, 417, 418, 419, 420, 421, 422, 423, 424, 425, 426, 427, 428, 429, 430, 431, 432, 433, 434, 435, 436, 437, 438, 439, 440, 441, 442, 443, 444, 445, 446, 447, 448, 449, 450, 451, 452, 453, 454, 455, 456, 457, 458, 459, 460, 461, 462, 463, 464, 465, 466, 467, 468, 469, 470, 471, 472, 473, 474, 475, 476, 477, 478, 479, 480, 481, 482, 483, 484, 485, 486, 487, 488, 489, 490, 491, 492, 493, 494, 495, 496, 497, 498, 499, 500, 501, 502, 503, 504, 505, 506, 507, 508, 509, 510, 511, 512, 513, 514, 515, 516, 517, 518, 519, 520, 521, 522, 523, 524, 525, 526, 527, 528, 529, 530, 531, 532, 533, 534, 535, 536, 537, 538, 539, 540, 541, 542, 543, 544, 545, 546, 547, 548, 549, 550, 551, 552, 553, 554, 555, 556, 557, 558, 559, 560, 561, 562, 563, 564, 565, 566, 567, 568, 569, 570, 571, 572, 573, 574, 575, 576, 577, 578, 579, 580, 581, 582, 583, 584, 585, 586, 587, 588, 589, 590, 591, 592, 593, 594, 595, 596, 597, 598, 599, 600, 601, 602, 603, 604, 605, 606, 607, 608, 609, 610, 611, 612, 613, 614, 615, 616, 617, 618, 619, 620, 621, 622, 623, 624, 625, 626, 627, 628, 629, 630, 631, 632, 633, 634, 635, 636, 637, 638, 639, 640, 641, 642, 643, 644, 645, 646, 647, 648, 649, 650, 651, 652, 653, 654, 655, 656, 657, 658, 659, 660, 661, 662, 663, 664, 665, 666, 667, 668, 669, 670, 671, 672, 673, 674, 675, 676, 677, 678, 679, 680, 681, 682, 683, 684, 685, 686, 687, 688, 689, 690, 691, 692, 693, 694, 695, 696, 697, 698, 699, 700, 701, 702, 703, 704, 705, 706, 707, 708, 709, 710, 711, 712, 713, 714, 715, 716, 717, 718, 719, 720, 721, 722, 723, 724, 725, 726, 727, 728, 729, 730, 731, 732, 733, 734, 735, 736, 737, 738, 739, 740, 741, 742, 743, 744, 745, 746, 747, 748, 749, 750, 751, 752, 753, 754, 755, 756, 757, 758, 759, 760, 761, 762, 763, 764, 765, 766, 767, 768, 769, 770, 771, 772, 773, 774, 775, 776, 777, 778, 779, 780, 781, 782, 783, 784, 785, 786, 787, 788, 789, 790, 791, 792, 793, 794, 795, 796, 797, 798, 799, 800, 801, 802, 803, 804, 805, 806, 807, 808, 809, 810, 811, 812, 813, 814, 815, 816, 817, 818, 819, 820, 821, 822, 823, 824, 825, 826, 827, 828, 829, 830, 831, 832, 833, 834, 835, 836, 837, 838, 839, 840, 841, 842, 843, 844, 845, 846, 847, 848, 849, 850, 851, 852, 853, 854, 855, 856, 857, 858, 859, 860, 861, 862, 863, 864, 865, 866, 867, 868, 869, 870, 871, 872, 873, 874, 875, 876, 877, 878, 879, 880, 881, 882, 883, 884, 885, 886, 887, 888, 889, 890]\n",
            "\n",
            "Tipos de datos:\n",
            " PassengerId     object\n",
            "Survived       float64\n",
            "Pclass         float64\n",
            "Name           float64\n",
            "Sex            float64\n",
            "Age            float64\n",
            "SibSp          float64\n",
            "Parch          float64\n",
            "Ticket         float64\n",
            "Fare           float64\n",
            "Cabin          float64\n",
            "Embarked       float64\n",
            "dtype: object\n",
            "\n",
            "Primeras 10 filas:\n",
            "                                          PassengerId  Survived  Pclass  Name  \\\n",
            "0  1,0,3,\"Braund, Mr. Owen Harris\",male,22,1,0,A/...       NaN     NaN   NaN   \n",
            "1  2,1,1,\"Cumings, Mrs. John Bradley (Florence Br...       NaN     NaN   NaN   \n",
            "2  3,1,3,\"Heikkinen, Miss. Laina\",female,26,0,0,S...       NaN     NaN   NaN   \n",
            "3  4,1,1,\"Futrelle, Mrs. Jacques Heath (Lily May ...       NaN     NaN   NaN   \n",
            "4  5,0,3,\"Allen, Mr. William Henry\",male,35,0,0,3...       NaN     NaN   NaN   \n",
            "5  6,0,3,\"Moran, Mr. James\",male,,0,0,330877,8.45...       NaN     NaN   NaN   \n",
            "6  7,0,1,\"McCarthy, Mr. Timothy J\",male,54,0,0,17...       NaN     NaN   NaN   \n",
            "7  8,0,3,\"Palsson, Master. Gosta Leonard\",male,2,...       NaN     NaN   NaN   \n",
            "8  9,1,3,\"Johnson, Mrs. Oscar W (Elisabeth Vilhel...       NaN     NaN   NaN   \n",
            "9  10,1,2,\"Nasser, Mrs. Nicholas (Adele Achem)\",f...       NaN     NaN   NaN   \n",
            "\n",
            "   Sex  Age  SibSp  Parch  Ticket  Fare  Cabin  Embarked  \n",
            "0  NaN  NaN    NaN    NaN     NaN   NaN    NaN       NaN  \n",
            "1  NaN  NaN    NaN    NaN     NaN   NaN    NaN       NaN  \n",
            "2  NaN  NaN    NaN    NaN     NaN   NaN    NaN       NaN  \n",
            "3  NaN  NaN    NaN    NaN     NaN   NaN    NaN       NaN  \n",
            "4  NaN  NaN    NaN    NaN     NaN   NaN    NaN       NaN  \n",
            "5  NaN  NaN    NaN    NaN     NaN   NaN    NaN       NaN  \n",
            "6  NaN  NaN    NaN    NaN     NaN   NaN    NaN       NaN  \n",
            "7  NaN  NaN    NaN    NaN     NaN   NaN    NaN       NaN  \n",
            "8  NaN  NaN    NaN    NaN     NaN   NaN    NaN       NaN  \n",
            "9  NaN  NaN    NaN    NaN     NaN   NaN    NaN       NaN  \n",
            "\n",
            "Últimas 10 filas:\n",
            "                                            PassengerId  Survived  Pclass  \\\n",
            "881  882,0,3,\"Markun, Mr. Johann\",male,33,0,0,34925...       NaN     NaN   \n",
            "882  883,0,3,\"Dahlberg, Miss. Gerda Ulrika\",female,...       NaN     NaN   \n",
            "883  884,0,2,\"Banfield, Mr. Frederick James\",male,2...       NaN     NaN   \n",
            "884  885,0,3,\"Sutehall, Mr. Henry Jr\",male,25,0,0,S...       NaN     NaN   \n",
            "885  886,0,3,\"Rice, Mrs. William (Margaret Norton)\"...       NaN     NaN   \n",
            "886  887,0,2,\"Montvila, Rev. Juozas\",male,27,0,0,21...       NaN     NaN   \n",
            "887  888,1,1,\"Graham, Miss. Margaret Edith\",female,...       NaN     NaN   \n",
            "888  889,0,3,\"Johnston, Miss. Catherine Helen \"\"Car...       NaN     NaN   \n",
            "889  890,1,1,\"Behr, Mr. Karl Howell\",male,26,0,0,11...       NaN     NaN   \n",
            "890  891,0,3,\"Dooley, Mr. Patrick\",male,32,0,0,3703...       NaN     NaN   \n",
            "\n",
            "     Name  Sex  Age  SibSp  Parch  Ticket  Fare  Cabin  Embarked  \n",
            "881   NaN  NaN  NaN    NaN    NaN     NaN   NaN    NaN       NaN  \n",
            "882   NaN  NaN  NaN    NaN    NaN     NaN   NaN    NaN       NaN  \n",
            "883   NaN  NaN  NaN    NaN    NaN     NaN   NaN    NaN       NaN  \n",
            "884   NaN  NaN  NaN    NaN    NaN     NaN   NaN    NaN       NaN  \n",
            "885   NaN  NaN  NaN    NaN    NaN     NaN   NaN    NaN       NaN  \n",
            "886   NaN  NaN  NaN    NaN    NaN     NaN   NaN    NaN       NaN  \n",
            "887   NaN  NaN  NaN    NaN    NaN     NaN   NaN    NaN       NaN  \n",
            "888   NaN  NaN  NaN    NaN    NaN     NaN   NaN    NaN       NaN  \n",
            "889   NaN  NaN  NaN    NaN    NaN     NaN   NaN    NaN       NaN  \n",
            "890   NaN  NaN  NaN    NaN    NaN     NaN   NaN    NaN       NaN  \n",
            "\n",
            "Datos del pasajero con ID 148:\n",
            " Empty DataFrame\n",
            "Columns: [PassengerId, Survived, Pclass, Name, Sex, Age, SibSp, Parch, Ticket, Fare, Cabin, Embarked]\n",
            "Index: []\n",
            "\n",
            "Filas pares:\n",
            "                                            PassengerId  Survived  Pclass  \\\n",
            "0    1,0,3,\"Braund, Mr. Owen Harris\",male,22,1,0,A/...       NaN     NaN   \n",
            "2    3,1,3,\"Heikkinen, Miss. Laina\",female,26,0,0,S...       NaN     NaN   \n",
            "4    5,0,3,\"Allen, Mr. William Henry\",male,35,0,0,3...       NaN     NaN   \n",
            "6    7,0,1,\"McCarthy, Mr. Timothy J\",male,54,0,0,17...       NaN     NaN   \n",
            "8    9,1,3,\"Johnson, Mrs. Oscar W (Elisabeth Vilhel...       NaN     NaN   \n",
            "..                                                 ...       ...     ...   \n",
            "882  883,0,3,\"Dahlberg, Miss. Gerda Ulrika\",female,...       NaN     NaN   \n",
            "884  885,0,3,\"Sutehall, Mr. Henry Jr\",male,25,0,0,S...       NaN     NaN   \n",
            "886  887,0,2,\"Montvila, Rev. Juozas\",male,27,0,0,21...       NaN     NaN   \n",
            "888  889,0,3,\"Johnston, Miss. Catherine Helen \"\"Car...       NaN     NaN   \n",
            "890  891,0,3,\"Dooley, Mr. Patrick\",male,32,0,0,3703...       NaN     NaN   \n",
            "\n",
            "     Name  Sex  Age  SibSp  Parch  Ticket  Fare  Cabin  Embarked  \n",
            "0     NaN  NaN  NaN    NaN    NaN     NaN   NaN    NaN       NaN  \n",
            "2     NaN  NaN  NaN    NaN    NaN     NaN   NaN    NaN       NaN  \n",
            "4     NaN  NaN  NaN    NaN    NaN     NaN   NaN    NaN       NaN  \n",
            "6     NaN  NaN  NaN    NaN    NaN     NaN   NaN    NaN       NaN  \n",
            "8     NaN  NaN  NaN    NaN    NaN     NaN   NaN    NaN       NaN  \n",
            "..    ...  ...  ...    ...    ...     ...   ...    ...       ...  \n",
            "882   NaN  NaN  NaN    NaN    NaN     NaN   NaN    NaN       NaN  \n",
            "884   NaN  NaN  NaN    NaN    NaN     NaN   NaN    NaN       NaN  \n",
            "886   NaN  NaN  NaN    NaN    NaN     NaN   NaN    NaN       NaN  \n",
            "888   NaN  NaN  NaN    NaN    NaN     NaN   NaN    NaN       NaN  \n",
            "890   NaN  NaN  NaN    NaN    NaN     NaN   NaN    NaN       NaN  \n",
            "\n",
            "[446 rows x 12 columns]\n",
            "\n",
            "Nombres de pasajeros en primera clase (orden alfabético):\n",
            " Series([], Name: Name, dtype: float64)\n",
            "\n",
            "Porcentaje de supervivientes y fallecidos:\n",
            " Series([], Name: proportion, dtype: float64)\n",
            "\n",
            "Porcentaje de supervivientes por clase:\n",
            " Series([], Name: Survived, dtype: float64)\n",
            "\n",
            "Edad media de mujeres por clase:\n",
            " Series([], Name: Age, dtype: float64)\n",
            "\n",
            "Porcentaje de supervivientes por clase y grupo de edad (Menor=True):\n",
            " Series([], Name: Survived, dtype: float64)\n"
          ]
        }
      ]
    },
    {
      "cell_type": "markdown",
      "source": [
        "Ejercicio 8:\n",
        "Los ficheros emisiones-2016.csv, emisiones-2017.csv, emisiones-2018.csv y emisiones-2019.csv, contienen datos sobre las emisiones contaminates en la ciudad de Madrid en los años 2016, 2017, 2018 y 2019 respectivamente. Escribir un programa con los siguientes requisitos:\n",
        "- Generar un DataFrame con los datos de los cuatro ficheros.\n",
        "- Filtrar las columnas del DataFrame para quedarse con las columnas ESTACION, MAGNITUD, AÑO, MES y las correspondientes a los días D01, D02, etc.\n",
        "- Reestructurar el DataFrame para que los valores de los contaminantes de las columnas de los días aparezcan en una única columna.\n",
        "- Añadir una columna con la fecha a partir de la concatenación del año, el mes y el día (usar el módulo datetime).\n",
        "- Eliminar las filas con fechas no válidas (utilizar la función isnat del módulo numpy) y ordenar el DataFrame por estaciones contaminantes y fecha.\n",
        "- Mostrar por pantalla las estaciones y los contaminantes disponibles en el DataFrame.\n",
        "- Crear una función que reciba una estación, un contaminante y un rango de fechas y devuelva una serie con las emisiones del contaminante dado en la estación y rango de fechas dado.\n",
        "Mostrar un resumen descriptivo (mínimo, máximo, media, etc.) para cada contaminante.\n",
        "- Mostrar un resumen descriptivo para cada contaminante por distritos.\n",
        "- Crear una función que reciba una estación y un contaminante y devuelva un resumen descriptivo de las emisiones del contaminante indicado en la estación indicada.\n",
        "- Crear una función que devuelva las emisiones medias mensuales de un contaminante y un año dados para todos las estaciones.\n",
        "- Crear un función que reciba una estación de medición y devuelva un DataFrame con las medias mensuales de los distintos tipos de contaminantes."
      ],
      "metadata": {
        "id": "zaL0CCyMDDWD"
      }
    },
    {
      "cell_type": "code",
      "source": [
        "import pandas as pd\n",
        "import numpy as np\n",
        "from datetime import datetime\n",
        "\n",
        "# 1. Leer y unir los 4 archivos\n",
        "archivos = [\"/content/emisiones-2016.csv\", \"/content/emisiones-2017.csv\", \"/content/emisiones-2018.csv\", \"/content/emisiones-2019.csv\"]\n",
        "df = pd.concat([pd.read_csv(f, sep=';') for f in archivos], ignore_index=True)\n",
        "\n",
        "# 2. Filtrar columnas necesarias\n",
        "columnas_dias = [col for col in df.columns if col.startswith(\"D\")]\n",
        "df = df[[\"ESTACION\", \"MAGNITUD\", \"AÑO\", \"MES\"] + columnas_dias]\n",
        "\n",
        "# 3. Reestructurar a formato largo\n",
        "df_largo = df.melt(\n",
        "    id_vars=[\"ESTACION\", \"MAGNITUD\", \"AÑO\", \"MES\"],\n",
        "    value_vars=columnas_dias,\n",
        "    var_name=\"DIA\",\n",
        "    value_name=\"VALOR\"\n",
        ")\n",
        "\n",
        "# 4. Limpiar nombre de días y convertir a número\n",
        "df_largo[\"DIA\"] = df_largo[\"DIA\"].str[1:].astype(int)\n",
        "\n",
        "# 5. Crear columna FECHA\n",
        "df_largo[\"FECHA\"] = pd.to_datetime(\n",
        "    dict(year=df_largo[\"AÑO\"], month=df_largo[\"MES\"], day=df_largo[\"DIA\"]),\n",
        "    errors=\"coerce\"\n",
        ")\n",
        "\n",
        "# 6. Eliminar fechas no válidas y ordenar\n",
        "df_largo = df_largo[~pd.isna(df_largo[\"FECHA\"])]\n",
        "df_largo = df_largo.sort_values(by=[\"ESTACION\", \"MAGNITUD\", \"FECHA\"])\n",
        "\n",
        "# 7. Mostrar estaciones y contaminantes disponibles\n",
        "print(\"Estaciones disponibles:\", df_largo[\"ESTACION\"].unique())\n",
        "print(\"Contaminantes disponibles:\", df_largo[\"MAGNITUD\"].unique())\n",
        "\n",
        "# 8. Función: emisiones por estación, contaminante y rango de fechas\n",
        "def emisiones_por_rango(estacion, contaminante, fecha_inicio, fecha_fin):\n",
        "    filtro = (\n",
        "        (df_largo[\"ESTACION\"] == estacion) &\n",
        "        (df_largo[\"MAGNITUD\"] == contaminante) &\n",
        "        (df_largo[\"FECHA\"] >= fecha_inicio) &\n",
        "        (df_largo[\"FECHA\"] <= fecha_fin)\n",
        "    )\n",
        "    return df_largo.loc[filtro, \"VALOR\"]\n",
        "\n",
        "# Ejemplo\n",
        "print(\"\\nEmisiones NO2 en estación 1 (2016-01-01 a 2016-01-05):\")\n",
        "print(emisiones_por_rango(1, \"NO2\", \"2016-01-01\", \"2016-01-05\"))\n",
        "\n",
        "# 9. Resumen descriptivo por contaminante\n",
        "print(\"\\nResumen por contaminante:\")\n",
        "print(df_largo.groupby(\"MAGNITUD\")[\"VALOR\"].describe())\n",
        "\n",
        "# 10. Resumen por contaminante y estación\n",
        "print(\"\\nResumen por contaminante y estación:\")\n",
        "print(df_largo.groupby([\"ESTACION\", \"MAGNITUD\"])[\"VALOR\"].describe())\n",
        "\n",
        "# 11. Función: resumen descriptivo por estación y contaminante\n",
        "def resumen_estacion_contaminante(estacion, contaminante):\n",
        "    filtro = (\n",
        "        (df_largo[\"ESTACION\"] == estacion) &\n",
        "        (df_largo[\"MAGNITUD\"] == contaminante)\n",
        "    )\n",
        "    return df_largo.loc[filtro, \"VALOR\"].describe()\n",
        "\n",
        "# 12. Función: medias mensuales de un contaminante y año para todas las estaciones\n",
        "def medias_mensuales(contaminante, anio):\n",
        "    filtro = (\n",
        "        (df_largo[\"MAGNITUD\"] == contaminante) &\n",
        "        (df_largo[\"AÑO\"] == anio)\n",
        "    )\n",
        "    return df_largo.loc[filtro].groupby([\"MES\", \"ESTACION\"])[\"VALOR\"].mean()\n",
        "\n",
        "# 13. Función: medias mensuales de todos los contaminantes en una estación\n",
        "def medias_mensuales_estacion(estacion):\n",
        "    filtro = df_largo[\"ESTACION\"] == estacion\n",
        "    return df_largo.loc[filtro].groupby([\"MES\", \"MAGNITUD\"])[\"VALOR\"].mean().unstack()\n",
        "\n",
        "# Ejemplo de uso\n",
        "print(\"\\nResumen estación 1, NO2:\\n\", resumen_estacion_contaminante(1, \"NO2\"))\n",
        "print(\"\\nMedias mensuales NO2 en 2017:\\n\", medias_mensuales(\"NO2\", 2017))\n",
        "print(\"\\nMedias mensuales por contaminante en estación 1:\\n\", medias_mensuales_estacion(1))\n"
      ],
      "metadata": {
        "colab": {
          "base_uri": "https://localhost:8080/"
        },
        "id": "4LGqCkVBC_3c",
        "outputId": "d86db090-0cd1-4370-dac7-3423957a83c2"
      },
      "execution_count": 19,
      "outputs": [
        {
          "output_type": "stream",
          "name": "stdout",
          "text": [
            "Estaciones disponibles: [1. 2. 3. 4. 5.]\n",
            "Contaminantes disponibles: ['NO2' 'PM10' 'O3' 'PM2']\n",
            "\n",
            "Emisiones NO2 en estación 1 (2016-01-01 a 2016-01-05):\n",
            "0      45.0\n",
            "48     50.0\n",
            "96     48.0\n",
            "144    47.0\n",
            "192    52.0\n",
            "Name: VALOR, dtype: float64\n",
            "\n",
            "Resumen por contaminante:\n",
            "          count       mean       std   min    25%   50%   75%   max\n",
            "MAGNITUD                                                           \n",
            "NO2       160.0  45.181250  5.169908  33.0  41.00  46.0  49.0  55.0\n",
            "O3         80.0  61.200000  3.813368  53.0  58.75  61.0  64.0  69.0\n",
            "PM10      120.0  25.041667  2.928836  18.0  23.00  25.0  27.0  32.0\n",
            "PM2        40.0  20.475000  1.797256  16.0  19.00  21.0  22.0  24.0\n",
            "\n",
            "Resumen por contaminante y estación:\n",
            "                   count    mean       std   min    25%   50%   75%   max\n",
            "ESTACION MAGNITUD                                                        \n",
            "1.0      NO2        40.0  50.250  2.657838  44.0  48.75  50.0  52.0  55.0\n",
            "         PM10       40.0  24.700  1.604481  21.0  24.00  25.0  26.0  28.0\n",
            "2.0      NO2        40.0  43.825  2.890191  38.0  42.00  44.0  46.0  49.0\n",
            "         PM10       40.0  22.475  1.797256  18.0  21.00  23.0  24.0  26.0\n",
            "3.0      NO2        40.0  38.825  2.890191  33.0  37.00  39.0  41.0  44.0\n",
            "         O3         40.0  63.825  2.890191  58.0  62.00  64.0  66.0  69.0\n",
            "4.0      O3         40.0  58.575  2.639809  53.0  57.00  59.0  61.0  63.0\n",
            "         PM2        40.0  20.475  1.797256  16.0  19.00  21.0  22.0  24.0\n",
            "5.0      NO2        40.0  47.825  2.890191  42.0  46.00  48.0  50.0  53.0\n",
            "         PM10       40.0  27.950  2.194983  23.0  26.75  28.0  30.0  32.0\n",
            "\n",
            "Resumen estación 1, NO2:\n",
            " count    40.000000\n",
            "mean     50.250000\n",
            "std       2.657838\n",
            "min      44.000000\n",
            "25%      48.750000\n",
            "50%      50.000000\n",
            "75%      52.000000\n",
            "max      55.000000\n",
            "Name: VALOR, dtype: float64\n",
            "\n",
            "Medias mensuales NO2 en 2017:\n",
            " MES  ESTACION\n",
            "1.0  1.0         49.0\n",
            "     2.0         43.0\n",
            "     3.0         38.0\n",
            "     5.0         47.0\n",
            "Name: VALOR, dtype: float64\n",
            "\n",
            "Medias mensuales por contaminante en estación 1:\n",
            " MAGNITUD    NO2  PM10\n",
            "MES                  \n",
            "1.0       50.25  24.7\n"
          ]
        }
      ]
    }
  ]
}